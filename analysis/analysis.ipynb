{
 "cells": [
  {
   "cell_type": "markdown",
   "id": "c462315f-0df0-4e3a-8769-ac150da3f537",
   "metadata": {
    "tags": []
   },
   "source": [
    "### Initialize"
   ]
  },
  {
   "cell_type": "code",
   "execution_count": 1,
   "id": "139d8eb6",
   "metadata": {},
   "outputs": [],
   "source": [
    "%load_ext autoreload\n",
    "%autoreload 2"
   ]
  },
  {
   "cell_type": "code",
   "execution_count": 2,
   "id": "43abdf38",
   "metadata": {},
   "outputs": [],
   "source": [
    "import warnings\n",
    "warnings.filterwarnings('ignore')\n",
    "\n",
    "from rdkit import rdBase\n",
    "rdBase.DisableLog('rdApp.*')"
   ]
  },
  {
   "cell_type": "code",
   "execution_count": 83,
   "id": "08deb837",
   "metadata": {},
   "outputs": [],
   "source": [
    "from rdkit import Chem\n",
    "import os\n",
    "import glob\n",
    "import pickle\n",
    "from tqdm import tqdm\n",
    "from collections import defaultdict\n",
    "from itertools import chain, repeat\n",
    "import sys\n",
    "\n",
    "sys.path.append('../')\n",
    "\n",
    "import pandas as pd\n",
    "import numpy as np\n",
    "import matplotlib.pyplot as plt\n",
    "import seaborn as sns\n",
    "\n",
    "from constants import dataset_params, ec_encoder\n",
    "from analysis.metrics import BasicMolecularMetrics, MoleculeProperties\n",
    "from analysis.docking import calculate_qvina2_score, smina_score\n",
    "\n",
    "pd.set_option('display.float_format', lambda x: '%.3f' % x)\n",
    "\n",
    "RANDOM_SEED = 1"
   ]
  },
  {
   "cell_type": "code",
   "execution_count": 84,
   "id": "483fa05c",
   "metadata": {},
   "outputs": [],
   "source": [
    "dataset_info = dataset_params['bindingmoad']\n",
    "smiles_list = np.load('./processed_noH_ca/train_smiles.npy')\n",
    "BASIC_METRICS = BasicMolecularMetrics(dataset_info, smiles_list)\n",
    "MOL_METRICS = MoleculeProperties()\n",
    "\n",
    "with open('./processed_noH_ca/ec_dict.pickle', 'rb') as f:\n",
    "    ec_dict = pickle.load(f)\n",
    "    \n",
    "EC_LEVEL = 1\n",
    "EC_ENCODER = ec_encoder[EC_LEVEL]"
   ]
  },
  {
   "cell_type": "markdown",
   "id": "c29d6c1d",
   "metadata": {
    "tags": []
   },
   "source": [
    "### Test-set Property"
   ]
  },
  {
   "cell_type": "code",
   "execution_count": 6,
   "id": "a5d22614-82a7-4867-8a65-6703c46df261",
   "metadata": {},
   "outputs": [],
   "source": [
    "test_dir = './processed_noH_ca/test'\n",
    "test_sdf = list(glob.glob(f'{test_dir}/[!.]*.sdf'))\n",
    "vina_csv = './processed_noH_ca/test_qvina/vina_scores.csv'"
   ]
  },
  {
   "cell_type": "code",
   "execution_count": 7,
   "id": "0aa95e17-421a-4924-8eff-089997859237",
   "metadata": {},
   "outputs": [],
   "source": [
    "test_mols_dict = defaultdict(list)\n",
    "\n",
    "for file in test_sdf:\n",
    "    ligand_name = file.split('/')[-1]\n",
    "    test_mols_dict[ligand_name] += list(Chem.SDMolSupplier(str(file), sanitize=False))"
   ]
  },
  {
   "cell_type": "code",
   "execution_count": 86,
   "id": "e6d2d233-913f-42a0-aefe-5942393fc269",
   "metadata": {},
   "outputs": [],
   "source": [
    "from rdkit.Chem.rdMolDescriptors import CalcNumRings\n",
    "from rdkit.Chem.Descriptors import MolWt\n",
    "\n",
    "def evaluate_molecules(mols_dict, vina_csv=None, \n",
    "                       validity_file=None, time_file=None,\n",
    "                       organize_by_ec=False):\n",
    "    assert all([k[-3:]=='sdf' for k in mols_dict.keys()])\n",
    "    \n",
    "    df = defaultdict(list)\n",
    "    \n",
    "    # basic molecular metrics\n",
    "    (validity, connectivity, uniqueness, novelty), _ = BASIC_METRICS.evaluate_rdmols(list(chain.from_iterable(mols_dict.values())))\n",
    "        \n",
    "    # vina score\n",
    "    if vina_csv is not None:\n",
    "        vina_scores_dict = {}\n",
    "        with open(vina_csv, 'r') as f:\n",
    "            for i, row in enumerate(f.readlines()):\n",
    "                if i==0: continue\n",
    "                row = row.split('\\t')\n",
    "                ligand = row[1]\n",
    "                try:\n",
    "                    vina_scores_dict[ligand] = [s if s<0 else 0 for s in eval(row[2])]\n",
    "                    if all([int(s) == 0 for s in vina_scores_dict[ligand]]):\n",
    "                        raise NameError\n",
    "                except NameError:\n",
    "                    vina_scores_dict[ligand] = [None] * (1 + row[2].count(','))\n",
    "                    \n",
    "    # generation validity\n",
    "    if validity_file is not None: \n",
    "        with open(validity_file, 'r') as f:\n",
    "            validity_dict = {}\n",
    "            for line in f.readlines():\n",
    "                ligand, validity = line.split(' ')\n",
    "                ligand = line.split(' ')[0].split('/')[-1].replace('.sdf', '_gen.sdf')\n",
    "                validity_dict[ligand] = float(validity)\n",
    "                \n",
    "    # generation time\n",
    "    if time_file is not None:   \n",
    "        with open(time_file, 'r') as f:\n",
    "            time_dict = {}\n",
    "            for line in f.readlines():\n",
    "                ligand, validity = line.split(' ')\n",
    "                ligand = line.split(' ')[0].split('/')[-1].replace('.sdf', '_gen.sdf')\n",
    "                time_dict[ligand] = float(validity)\n",
    "    \n",
    "    for ligand, mols in tqdm(mols_dict.items()):\n",
    "        # indices needed to be checked for filtering the list of vina scores\n",
    "        valid_idc = [BASIC_METRICS.check_valid_and_connected(mol) for mol in mols]\n",
    "        connected_mols = [mol for i, mol in enumerate(mols) if valid_idc[i]]\n",
    "        \n",
    "        receptor = ligand[:4]\n",
    "        n_mols = len(connected_mols)\n",
    "        \n",
    "        if organize_by_ec:\n",
    "            ec_list = ec_dict[receptor]\n",
    "            if len(ec_list) == 0: continue\n",
    "            ec = '.'.join(ec_list[0].split('.')[:EC_LEVEL])\n",
    "            df['ec'] += list(repeat(ec, n_mols))\n",
    "            \n",
    "        df['receptor'] += list(repeat(receptor, n_mols))\n",
    "        df['mols'] += connected_mols\n",
    "        \n",
    "        if validity_file is not None:\n",
    "            df['validity'] += list(repeat(validity_dict[ligand] * len(connected_mols) / len(mols), n_mols))\n",
    "        else:\n",
    "            df['validity'] += list(repeat(validity, n_mols))\n",
    "        \n",
    "        df['connectivity'] += list(repeat(connectivity, n_mols))\n",
    "        df['uniqueness'] += list(repeat(uniqueness, n_mols))\n",
    "        df['novelty'] += list(repeat(novelty, n_mols))\n",
    "        \n",
    "        if time_file is not None:\n",
    "            df['time'] += list(repeat(time_dict[ligand], n_mols))\n",
    "        \n",
    "        # chemical molecular properties\n",
    "        df['qed'] += [MOL_METRICS.calculate_qed(mol) for mol in connected_mols]\n",
    "        df['sa'] += [MOL_METRICS.calculate_sa(mol) for mol in connected_mols]\n",
    "        df['logp'] += [MOL_METRICS.calculate_logp(mol) for mol in connected_mols]\n",
    "        df['lipinski'] += [MOL_METRICS.calculate_lipinski(mol) for mol in connected_mols]\n",
    "        df['diversity'] += list(repeat(MOL_METRICS.calculate_diversity(connected_mols), n_mols))\n",
    "        \n",
    "        df['MW'] += [MolWt(mol) for mol in connected_mols]\n",
    "        df['size'] += [mol.GetNumAtoms() for mol in connected_mols]\n",
    "        df['n_rings'] += [CalcNumRings(mol) for mol in connected_mols]\n",
    "        \n",
    "        if vina_csv is not None:\n",
    "            vina_scores = [s for i, s in enumerate(vina_scores_dict[ligand]) if valid_idc[i]]\n",
    "            df['vina_scores'] += vina_scores\n",
    "\n",
    "    df = pd.DataFrame(df)\n",
    "    \n",
    "    return df"
   ]
  },
  {
   "cell_type": "code",
   "execution_count": 9,
   "id": "b2877f58-89e6-4232-9081-3ef318660484",
   "metadata": {},
   "outputs": [
    {
     "name": "stdout",
     "output_type": "stream",
     "text": [
      "Validity over 413 molecules: 96.61%\n",
      "Connectivity over 399 valid molecules: 100.00%\n",
      "Uniqueness over 399 connected molecules: 93.48%\n",
      "Novelty over 373 unique connected molecules: 100.00%\n"
     ]
    },
    {
     "name": "stderr",
     "output_type": "stream",
     "text": [
      "100%|██████████| 413/413 [00:01<00:00, 239.53it/s]\n"
     ]
    },
    {
     "data": {
      "text/html": [
       "<div>\n",
       "<style scoped>\n",
       "    .dataframe tbody tr th:only-of-type {\n",
       "        vertical-align: middle;\n",
       "    }\n",
       "\n",
       "    .dataframe tbody tr th {\n",
       "        vertical-align: top;\n",
       "    }\n",
       "\n",
       "    .dataframe thead th {\n",
       "        text-align: right;\n",
       "    }\n",
       "</style>\n",
       "<table border=\"1\" class=\"dataframe\">\n",
       "  <thead>\n",
       "    <tr style=\"text-align: right;\">\n",
       "      <th></th>\n",
       "      <th>receptor</th>\n",
       "      <th>mols</th>\n",
       "      <th>validity</th>\n",
       "      <th>connectivity</th>\n",
       "      <th>uniqueness</th>\n",
       "      <th>novelty</th>\n",
       "      <th>qed</th>\n",
       "      <th>sa</th>\n",
       "      <th>logp</th>\n",
       "      <th>lipinski</th>\n",
       "      <th>diversity</th>\n",
       "      <th>MW</th>\n",
       "      <th>size</th>\n",
       "      <th>n_rings</th>\n",
       "      <th>vina_scores</th>\n",
       "      <th>group</th>\n",
       "    </tr>\n",
       "  </thead>\n",
       "  <tbody>\n",
       "    <tr>\n",
       "      <th>0</th>\n",
       "      <td>6TC1</td>\n",
       "      <td>&lt;rdkit.Chem.rdchem.Mol object at 0x2afd41a4e260&gt;</td>\n",
       "      <td>0.966</td>\n",
       "      <td>1.000</td>\n",
       "      <td>0.935</td>\n",
       "      <td>1.000</td>\n",
       "      <td>0.536</td>\n",
       "      <td>0.490</td>\n",
       "      <td>0.256</td>\n",
       "      <td>5</td>\n",
       "      <td>0.000</td>\n",
       "      <td>122.132</td>\n",
       "      <td>8</td>\n",
       "      <td>1</td>\n",
       "      <td>NaN</td>\n",
       "      <td>test</td>\n",
       "    </tr>\n",
       "    <tr>\n",
       "      <th>1</th>\n",
       "      <td>3VEV</td>\n",
       "      <td>&lt;rdkit.Chem.rdchem.Mol object at 0x2afd41a4e320&gt;</td>\n",
       "      <td>0.966</td>\n",
       "      <td>1.000</td>\n",
       "      <td>0.935</td>\n",
       "      <td>1.000</td>\n",
       "      <td>0.782</td>\n",
       "      <td>0.320</td>\n",
       "      <td>0.837</td>\n",
       "      <td>5</td>\n",
       "      <td>0.000</td>\n",
       "      <td>371.233</td>\n",
       "      <td>28</td>\n",
       "      <td>3</td>\n",
       "      <td>NaN</td>\n",
       "      <td>test</td>\n",
       "    </tr>\n",
       "    <tr>\n",
       "      <th>2</th>\n",
       "      <td>5HRW</td>\n",
       "      <td>&lt;rdkit.Chem.rdchem.Mol object at 0x2afd41a4e380&gt;</td>\n",
       "      <td>0.966</td>\n",
       "      <td>1.000</td>\n",
       "      <td>0.935</td>\n",
       "      <td>1.000</td>\n",
       "      <td>0.676</td>\n",
       "      <td>0.410</td>\n",
       "      <td>0.499</td>\n",
       "      <td>5</td>\n",
       "      <td>0.000</td>\n",
       "      <td>216.155</td>\n",
       "      <td>17</td>\n",
       "      <td>3</td>\n",
       "      <td>-8.600</td>\n",
       "      <td>test</td>\n",
       "    </tr>\n",
       "    <tr>\n",
       "      <th>3</th>\n",
       "      <td>5J6N</td>\n",
       "      <td>&lt;rdkit.Chem.rdchem.Mol object at 0x2afd41a4e3e0&gt;</td>\n",
       "      <td>0.966</td>\n",
       "      <td>1.000</td>\n",
       "      <td>0.935</td>\n",
       "      <td>1.000</td>\n",
       "      <td>0.670</td>\n",
       "      <td>0.370</td>\n",
       "      <td>1.065</td>\n",
       "      <td>5</td>\n",
       "      <td>0.000</td>\n",
       "      <td>403.286</td>\n",
       "      <td>29</td>\n",
       "      <td>3</td>\n",
       "      <td>-9.200</td>\n",
       "      <td>test</td>\n",
       "    </tr>\n",
       "    <tr>\n",
       "      <th>4</th>\n",
       "      <td>2XXR</td>\n",
       "      <td>&lt;rdkit.Chem.rdchem.Mol object at 0x2afd41a4e440&gt;</td>\n",
       "      <td>0.966</td>\n",
       "      <td>1.000</td>\n",
       "      <td>0.935</td>\n",
       "      <td>1.000</td>\n",
       "      <td>0.480</td>\n",
       "      <td>0.530</td>\n",
       "      <td>-1.336</td>\n",
       "      <td>5</td>\n",
       "      <td>0.000</td>\n",
       "      <td>138.058</td>\n",
       "      <td>10</td>\n",
       "      <td>0</td>\n",
       "      <td>-6.500</td>\n",
       "      <td>test</td>\n",
       "    </tr>\n",
       "    <tr>\n",
       "      <th>...</th>\n",
       "      <td>...</td>\n",
       "      <td>...</td>\n",
       "      <td>...</td>\n",
       "      <td>...</td>\n",
       "      <td>...</td>\n",
       "      <td>...</td>\n",
       "      <td>...</td>\n",
       "      <td>...</td>\n",
       "      <td>...</td>\n",
       "      <td>...</td>\n",
       "      <td>...</td>\n",
       "      <td>...</td>\n",
       "      <td>...</td>\n",
       "      <td>...</td>\n",
       "      <td>...</td>\n",
       "      <td>...</td>\n",
       "    </tr>\n",
       "    <tr>\n",
       "      <th>394</th>\n",
       "      <td>2VYT</td>\n",
       "      <td>&lt;rdkit.Chem.rdchem.Mol object at 0x2afd41a3fbe0&gt;</td>\n",
       "      <td>0.966</td>\n",
       "      <td>1.000</td>\n",
       "      <td>0.935</td>\n",
       "      <td>1.000</td>\n",
       "      <td>0.439</td>\n",
       "      <td>0.400</td>\n",
       "      <td>-1.023</td>\n",
       "      <td>5</td>\n",
       "      <td>0.000</td>\n",
       "      <td>144.089</td>\n",
       "      <td>11</td>\n",
       "      <td>0</td>\n",
       "      <td>-4.200</td>\n",
       "      <td>test</td>\n",
       "    </tr>\n",
       "    <tr>\n",
       "      <th>395</th>\n",
       "      <td>4JXH</td>\n",
       "      <td>&lt;rdkit.Chem.rdchem.Mol object at 0x2afd41a3fc40&gt;</td>\n",
       "      <td>0.966</td>\n",
       "      <td>1.000</td>\n",
       "      <td>0.935</td>\n",
       "      <td>1.000</td>\n",
       "      <td>0.825</td>\n",
       "      <td>0.320</td>\n",
       "      <td>0.929</td>\n",
       "      <td>5</td>\n",
       "      <td>0.000</td>\n",
       "      <td>262.225</td>\n",
       "      <td>19</td>\n",
       "      <td>2</td>\n",
       "      <td>-6.900</td>\n",
       "      <td>test</td>\n",
       "    </tr>\n",
       "    <tr>\n",
       "      <th>396</th>\n",
       "      <td>4I12</td>\n",
       "      <td>&lt;rdkit.Chem.rdchem.Mol object at 0x2afd41a3fd00&gt;</td>\n",
       "      <td>0.966</td>\n",
       "      <td>1.000</td>\n",
       "      <td>0.935</td>\n",
       "      <td>1.000</td>\n",
       "      <td>0.585</td>\n",
       "      <td>0.270</td>\n",
       "      <td>2.688</td>\n",
       "      <td>5</td>\n",
       "      <td>0.000</td>\n",
       "      <td>491.858</td>\n",
       "      <td>36</td>\n",
       "      <td>5</td>\n",
       "      <td>-8.700</td>\n",
       "      <td>test</td>\n",
       "    </tr>\n",
       "    <tr>\n",
       "      <th>397</th>\n",
       "      <td>4B2D</td>\n",
       "      <td>&lt;rdkit.Chem.rdchem.Mol object at 0x2afd41a3fd60&gt;</td>\n",
       "      <td>0.966</td>\n",
       "      <td>1.000</td>\n",
       "      <td>0.935</td>\n",
       "      <td>1.000</td>\n",
       "      <td>0.436</td>\n",
       "      <td>0.520</td>\n",
       "      <td>-0.987</td>\n",
       "      <td>5</td>\n",
       "      <td>0.000</td>\n",
       "      <td>98.037</td>\n",
       "      <td>7</td>\n",
       "      <td>0</td>\n",
       "      <td>-3.600</td>\n",
       "      <td>test</td>\n",
       "    </tr>\n",
       "    <tr>\n",
       "      <th>398</th>\n",
       "      <td>4RZ8</td>\n",
       "      <td>&lt;rdkit.Chem.rdchem.Mol object at 0x2afd41a3fdc0&gt;</td>\n",
       "      <td>0.966</td>\n",
       "      <td>1.000</td>\n",
       "      <td>0.935</td>\n",
       "      <td>1.000</td>\n",
       "      <td>0.711</td>\n",
       "      <td>0.310</td>\n",
       "      <td>1.575</td>\n",
       "      <td>5</td>\n",
       "      <td>0.000</td>\n",
       "      <td>419.788</td>\n",
       "      <td>30</td>\n",
       "      <td>4</td>\n",
       "      <td>-8.500</td>\n",
       "      <td>test</td>\n",
       "    </tr>\n",
       "  </tbody>\n",
       "</table>\n",
       "<p>399 rows × 16 columns</p>\n",
       "</div>"
      ],
      "text/plain": [
       "    receptor                                              mols  validity  \\\n",
       "0       6TC1  <rdkit.Chem.rdchem.Mol object at 0x2afd41a4e260>     0.966   \n",
       "1       3VEV  <rdkit.Chem.rdchem.Mol object at 0x2afd41a4e320>     0.966   \n",
       "2       5HRW  <rdkit.Chem.rdchem.Mol object at 0x2afd41a4e380>     0.966   \n",
       "3       5J6N  <rdkit.Chem.rdchem.Mol object at 0x2afd41a4e3e0>     0.966   \n",
       "4       2XXR  <rdkit.Chem.rdchem.Mol object at 0x2afd41a4e440>     0.966   \n",
       "..       ...                                               ...       ...   \n",
       "394     2VYT  <rdkit.Chem.rdchem.Mol object at 0x2afd41a3fbe0>     0.966   \n",
       "395     4JXH  <rdkit.Chem.rdchem.Mol object at 0x2afd41a3fc40>     0.966   \n",
       "396     4I12  <rdkit.Chem.rdchem.Mol object at 0x2afd41a3fd00>     0.966   \n",
       "397     4B2D  <rdkit.Chem.rdchem.Mol object at 0x2afd41a3fd60>     0.966   \n",
       "398     4RZ8  <rdkit.Chem.rdchem.Mol object at 0x2afd41a3fdc0>     0.966   \n",
       "\n",
       "     connectivity  uniqueness  novelty   qed    sa   logp  lipinski  \\\n",
       "0           1.000       0.935    1.000 0.536 0.490  0.256         5   \n",
       "1           1.000       0.935    1.000 0.782 0.320  0.837         5   \n",
       "2           1.000       0.935    1.000 0.676 0.410  0.499         5   \n",
       "3           1.000       0.935    1.000 0.670 0.370  1.065         5   \n",
       "4           1.000       0.935    1.000 0.480 0.530 -1.336         5   \n",
       "..            ...         ...      ...   ...   ...    ...       ...   \n",
       "394         1.000       0.935    1.000 0.439 0.400 -1.023         5   \n",
       "395         1.000       0.935    1.000 0.825 0.320  0.929         5   \n",
       "396         1.000       0.935    1.000 0.585 0.270  2.688         5   \n",
       "397         1.000       0.935    1.000 0.436 0.520 -0.987         5   \n",
       "398         1.000       0.935    1.000 0.711 0.310  1.575         5   \n",
       "\n",
       "     diversity      MW  size  n_rings  vina_scores group  \n",
       "0        0.000 122.132     8        1          NaN  test  \n",
       "1        0.000 371.233    28        3          NaN  test  \n",
       "2        0.000 216.155    17        3       -8.600  test  \n",
       "3        0.000 403.286    29        3       -9.200  test  \n",
       "4        0.000 138.058    10        0       -6.500  test  \n",
       "..         ...     ...   ...      ...          ...   ...  \n",
       "394      0.000 144.089    11        0       -4.200  test  \n",
       "395      0.000 262.225    19        2       -6.900  test  \n",
       "396      0.000 491.858    36        5       -8.700  test  \n",
       "397      0.000  98.037     7        0       -3.600  test  \n",
       "398      0.000 419.788    30        4       -8.500  test  \n",
       "\n",
       "[399 rows x 16 columns]"
      ]
     },
     "execution_count": 9,
     "metadata": {},
     "output_type": "execute_result"
    }
   ],
   "source": [
    "df_test = evaluate_molecules(test_mols_dict, vina_csv, organize_by_ec=False)\n",
    "df_test['group'] = 'test' \n",
    "df_test"
   ]
  },
  {
   "cell_type": "code",
   "execution_count": 10,
   "id": "c05066c2-1803-4ea1-975b-33f455aaca0c",
   "metadata": {},
   "outputs": [
    {
     "data": {
      "text/html": [
       "<div>\n",
       "<style scoped>\n",
       "    .dataframe tbody tr th:only-of-type {\n",
       "        vertical-align: middle;\n",
       "    }\n",
       "\n",
       "    .dataframe tbody tr th {\n",
       "        vertical-align: top;\n",
       "    }\n",
       "\n",
       "    .dataframe thead th {\n",
       "        text-align: right;\n",
       "    }\n",
       "</style>\n",
       "<table border=\"1\" class=\"dataframe\">\n",
       "  <thead>\n",
       "    <tr style=\"text-align: right;\">\n",
       "      <th></th>\n",
       "      <th>validity</th>\n",
       "      <th>connectivity</th>\n",
       "      <th>uniqueness</th>\n",
       "      <th>novelty</th>\n",
       "      <th>qed</th>\n",
       "      <th>sa</th>\n",
       "      <th>logp</th>\n",
       "      <th>lipinski</th>\n",
       "      <th>diversity</th>\n",
       "      <th>MW</th>\n",
       "      <th>size</th>\n",
       "      <th>n_rings</th>\n",
       "      <th>vina_scores</th>\n",
       "    </tr>\n",
       "  </thead>\n",
       "  <tbody>\n",
       "    <tr>\n",
       "      <th>count</th>\n",
       "      <td>399.000</td>\n",
       "      <td>399.000</td>\n",
       "      <td>399.000</td>\n",
       "      <td>399.000</td>\n",
       "      <td>399.000</td>\n",
       "      <td>399.000</td>\n",
       "      <td>399.000</td>\n",
       "      <td>399.000</td>\n",
       "      <td>399.000</td>\n",
       "      <td>399.000</td>\n",
       "      <td>399.000</td>\n",
       "      <td>399.000</td>\n",
       "      <td>268.000</td>\n",
       "    </tr>\n",
       "    <tr>\n",
       "      <th>mean</th>\n",
       "      <td>0.966</td>\n",
       "      <td>1.000</td>\n",
       "      <td>0.935</td>\n",
       "      <td>1.000</td>\n",
       "      <td>0.586</td>\n",
       "      <td>0.366</td>\n",
       "      <td>0.536</td>\n",
       "      <td>4.950</td>\n",
       "      <td>0.000</td>\n",
       "      <td>266.301</td>\n",
       "      <td>19.539</td>\n",
       "      <td>2.183</td>\n",
       "      <td>-7.642</td>\n",
       "    </tr>\n",
       "    <tr>\n",
       "      <th>std</th>\n",
       "      <td>0.000</td>\n",
       "      <td>0.000</td>\n",
       "      <td>0.000</td>\n",
       "      <td>0.000</td>\n",
       "      <td>0.123</td>\n",
       "      <td>0.091</td>\n",
       "      <td>1.242</td>\n",
       "      <td>0.230</td>\n",
       "      <td>0.000</td>\n",
       "      <td>117.584</td>\n",
       "      <td>8.836</td>\n",
       "      <td>1.582</td>\n",
       "      <td>2.330</td>\n",
       "    </tr>\n",
       "    <tr>\n",
       "      <th>min</th>\n",
       "      <td>0.966</td>\n",
       "      <td>1.000</td>\n",
       "      <td>0.935</td>\n",
       "      <td>1.000</td>\n",
       "      <td>0.290</td>\n",
       "      <td>0.130</td>\n",
       "      <td>-2.164</td>\n",
       "      <td>3.000</td>\n",
       "      <td>0.000</td>\n",
       "      <td>54.028</td>\n",
       "      <td>4.000</td>\n",
       "      <td>0.000</td>\n",
       "      <td>-15.500</td>\n",
       "    </tr>\n",
       "    <tr>\n",
       "      <th>25%</th>\n",
       "      <td>0.966</td>\n",
       "      <td>1.000</td>\n",
       "      <td>0.935</td>\n",
       "      <td>1.000</td>\n",
       "      <td>0.488</td>\n",
       "      <td>0.300</td>\n",
       "      <td>-0.326</td>\n",
       "      <td>5.000</td>\n",
       "      <td>0.000</td>\n",
       "      <td>165.264</td>\n",
       "      <td>12.000</td>\n",
       "      <td>1.000</td>\n",
       "      <td>-9.300</td>\n",
       "    </tr>\n",
       "    <tr>\n",
       "      <th>50%</th>\n",
       "      <td>0.966</td>\n",
       "      <td>1.000</td>\n",
       "      <td>0.935</td>\n",
       "      <td>1.000</td>\n",
       "      <td>0.587</td>\n",
       "      <td>0.360</td>\n",
       "      <td>0.479</td>\n",
       "      <td>5.000</td>\n",
       "      <td>0.000</td>\n",
       "      <td>254.141</td>\n",
       "      <td>19.000</td>\n",
       "      <td>2.000</td>\n",
       "      <td>-7.600</td>\n",
       "    </tr>\n",
       "    <tr>\n",
       "      <th>75%</th>\n",
       "      <td>0.966</td>\n",
       "      <td>1.000</td>\n",
       "      <td>0.935</td>\n",
       "      <td>1.000</td>\n",
       "      <td>0.679</td>\n",
       "      <td>0.420</td>\n",
       "      <td>1.328</td>\n",
       "      <td>5.000</td>\n",
       "      <td>0.000</td>\n",
       "      <td>353.264</td>\n",
       "      <td>26.000</td>\n",
       "      <td>3.000</td>\n",
       "      <td>-5.800</td>\n",
       "    </tr>\n",
       "    <tr>\n",
       "      <th>max</th>\n",
       "      <td>0.966</td>\n",
       "      <td>1.000</td>\n",
       "      <td>0.935</td>\n",
       "      <td>1.000</td>\n",
       "      <td>0.867</td>\n",
       "      <td>0.760</td>\n",
       "      <td>4.589</td>\n",
       "      <td>5.000</td>\n",
       "      <td>0.000</td>\n",
       "      <td>716.518</td>\n",
       "      <td>54.000</td>\n",
       "      <td>8.000</td>\n",
       "      <td>-3.000</td>\n",
       "    </tr>\n",
       "  </tbody>\n",
       "</table>\n",
       "</div>"
      ],
      "text/plain": [
       "       validity  connectivity  uniqueness  novelty     qed      sa    logp  \\\n",
       "count   399.000       399.000     399.000  399.000 399.000 399.000 399.000   \n",
       "mean      0.966         1.000       0.935    1.000   0.586   0.366   0.536   \n",
       "std       0.000         0.000       0.000    0.000   0.123   0.091   1.242   \n",
       "min       0.966         1.000       0.935    1.000   0.290   0.130  -2.164   \n",
       "25%       0.966         1.000       0.935    1.000   0.488   0.300  -0.326   \n",
       "50%       0.966         1.000       0.935    1.000   0.587   0.360   0.479   \n",
       "75%       0.966         1.000       0.935    1.000   0.679   0.420   1.328   \n",
       "max       0.966         1.000       0.935    1.000   0.867   0.760   4.589   \n",
       "\n",
       "       lipinski  diversity      MW    size  n_rings  vina_scores  \n",
       "count   399.000    399.000 399.000 399.000  399.000      268.000  \n",
       "mean      4.950      0.000 266.301  19.539    2.183       -7.642  \n",
       "std       0.230      0.000 117.584   8.836    1.582        2.330  \n",
       "min       3.000      0.000  54.028   4.000    0.000      -15.500  \n",
       "25%       5.000      0.000 165.264  12.000    1.000       -9.300  \n",
       "50%       5.000      0.000 254.141  19.000    2.000       -7.600  \n",
       "75%       5.000      0.000 353.264  26.000    3.000       -5.800  \n",
       "max       5.000      0.000 716.518  54.000    8.000       -3.000  "
      ]
     },
     "execution_count": 10,
     "metadata": {},
     "output_type": "execute_result"
    }
   ],
   "source": [
    "test_summary = df_test.describe()\n",
    "test_summary.to_csv(f'{test_dir}/summary.csv')\n",
    "test_summary"
   ]
  },
  {
   "cell_type": "code",
   "execution_count": 69,
   "id": "ee4b5976",
   "metadata": {
    "tags": []
   },
   "outputs": [
    {
     "data": {
      "text/plain": [
       "<AxesSubplot:xlabel='qed', ylabel='Density'>"
      ]
     },
     "execution_count": 69,
     "metadata": {},
     "output_type": "execute_result"
    },
    {
     "data": {
      "image/png": "[encoded data removed]",
      "text/plain": [
       "<Figure size 640x480 with 1 Axes>"
      ]
     },
     "metadata": {},
     "output_type": "display_data"
    }
   ],
   "source": [
    "# plt.hist(df_test['qed'], width=0.05, density=True)\n",
    "sns.kdeplot(df_test, x='qed')"
   ]
  },
  {
   "cell_type": "code",
   "execution_count": null,
   "id": "256d8689",
   "metadata": {},
   "outputs": [],
   "source": [
    "# plt.hist(df_test['sa'], width=0.05, density=True)\n",
    "sns.kdeplot(df_test, x='sa')"
   ]
  },
  {
   "cell_type": "code",
   "execution_count": null,
   "id": "04d9888c",
   "metadata": {},
   "outputs": [],
   "source": [
    "# plt.hist(df_test['logp'], width=0.5, density=True)\n",
    "sns.kdeplot(df_test, x='logp')"
   ]
  },
  {
   "cell_type": "code",
   "execution_count": null,
   "id": "0c09ff56",
   "metadata": {
    "tags": []
   },
   "outputs": [],
   "source": [
    "# plt.hist(df_test['vina_scores'], width=1, density=True)\n",
    "sns.kdeplot(df_test, x='vina_scores')"
   ]
  },
  {
   "cell_type": "markdown",
   "id": "54489fb3-5ae9-4d7c-b5df-0d22939f9cc0",
   "metadata": {
    "tags": []
   },
   "source": [
    "### EC number"
   ]
  },
  {
   "cell_type": "code",
   "execution_count": 11,
   "id": "ac513eac",
   "metadata": {},
   "outputs": [
    {
     "name": "stdout",
     "output_type": "stream",
     "text": [
      "Validity over 413 molecules: 96.61%\n",
      "Connectivity over 399 valid molecules: 100.00%\n",
      "Uniqueness over 399 connected molecules: 93.48%\n",
      "Novelty over 373 unique connected molecules: 100.00%\n"
     ]
    },
    {
     "name": "stderr",
     "output_type": "stream",
     "text": [
      "100%|██████████| 413/413 [00:00<00:00, 539.70it/s]\n"
     ]
    },
    {
     "data": {
      "text/html": [
       "<div>\n",
       "<style scoped>\n",
       "    .dataframe tbody tr th:only-of-type {\n",
       "        vertical-align: middle;\n",
       "    }\n",
       "\n",
       "    .dataframe tbody tr th {\n",
       "        vertical-align: top;\n",
       "    }\n",
       "\n",
       "    .dataframe thead th {\n",
       "        text-align: right;\n",
       "    }\n",
       "</style>\n",
       "<table border=\"1\" class=\"dataframe\">\n",
       "  <thead>\n",
       "    <tr style=\"text-align: right;\">\n",
       "      <th></th>\n",
       "      <th>ec</th>\n",
       "      <th>receptor</th>\n",
       "      <th>mols</th>\n",
       "      <th>validity</th>\n",
       "      <th>connectivity</th>\n",
       "      <th>uniqueness</th>\n",
       "      <th>novelty</th>\n",
       "      <th>qed</th>\n",
       "      <th>sa</th>\n",
       "      <th>logp</th>\n",
       "      <th>lipinski</th>\n",
       "      <th>diversity</th>\n",
       "      <th>MW</th>\n",
       "      <th>size</th>\n",
       "      <th>n_rings</th>\n",
       "      <th>vina_scores</th>\n",
       "    </tr>\n",
       "  </thead>\n",
       "  <tbody>\n",
       "    <tr>\n",
       "      <th>0</th>\n",
       "      <td>3</td>\n",
       "      <td>6TC1</td>\n",
       "      <td>&lt;rdkit.Chem.rdchem.Mol object at 0x2afd41a4e260&gt;</td>\n",
       "      <td>0.966</td>\n",
       "      <td>1.000</td>\n",
       "      <td>0.935</td>\n",
       "      <td>1.000</td>\n",
       "      <td>0.536</td>\n",
       "      <td>0.490</td>\n",
       "      <td>0.256</td>\n",
       "      <td>5</td>\n",
       "      <td>0.000</td>\n",
       "      <td>122.132</td>\n",
       "      <td>8</td>\n",
       "      <td>1</td>\n",
       "      <td>NaN</td>\n",
       "    </tr>\n",
       "    <tr>\n",
       "      <th>1</th>\n",
       "      <td>2</td>\n",
       "      <td>3VEV</td>\n",
       "      <td>&lt;rdkit.Chem.rdchem.Mol object at 0x2afd41a4e320&gt;</td>\n",
       "      <td>0.966</td>\n",
       "      <td>1.000</td>\n",
       "      <td>0.935</td>\n",
       "      <td>1.000</td>\n",
       "      <td>0.782</td>\n",
       "      <td>0.320</td>\n",
       "      <td>0.837</td>\n",
       "      <td>5</td>\n",
       "      <td>0.000</td>\n",
       "      <td>371.233</td>\n",
       "      <td>28</td>\n",
       "      <td>3</td>\n",
       "      <td>NaN</td>\n",
       "    </tr>\n",
       "    <tr>\n",
       "      <th>2</th>\n",
       "      <td>3</td>\n",
       "      <td>5J6N</td>\n",
       "      <td>&lt;rdkit.Chem.rdchem.Mol object at 0x2afd41a4e3e0&gt;</td>\n",
       "      <td>0.966</td>\n",
       "      <td>1.000</td>\n",
       "      <td>0.935</td>\n",
       "      <td>1.000</td>\n",
       "      <td>0.670</td>\n",
       "      <td>0.370</td>\n",
       "      <td>1.065</td>\n",
       "      <td>5</td>\n",
       "      <td>0.000</td>\n",
       "      <td>403.286</td>\n",
       "      <td>29</td>\n",
       "      <td>3</td>\n",
       "      <td>-9.200</td>\n",
       "    </tr>\n",
       "    <tr>\n",
       "      <th>3</th>\n",
       "      <td>2</td>\n",
       "      <td>6F71</td>\n",
       "      <td>&lt;rdkit.Chem.rdchem.Mol object at 0x2afd41a4e4a0&gt;</td>\n",
       "      <td>0.966</td>\n",
       "      <td>1.000</td>\n",
       "      <td>0.935</td>\n",
       "      <td>1.000</td>\n",
       "      <td>0.786</td>\n",
       "      <td>0.350</td>\n",
       "      <td>2.156</td>\n",
       "      <td>5</td>\n",
       "      <td>0.000</td>\n",
       "      <td>260.160</td>\n",
       "      <td>20</td>\n",
       "      <td>3</td>\n",
       "      <td>-9.300</td>\n",
       "    </tr>\n",
       "    <tr>\n",
       "      <th>4</th>\n",
       "      <td>3</td>\n",
       "      <td>6EY8</td>\n",
       "      <td>&lt;rdkit.Chem.rdchem.Mol object at 0x2afd41a4e500&gt;</td>\n",
       "      <td>0.966</td>\n",
       "      <td>1.000</td>\n",
       "      <td>0.935</td>\n",
       "      <td>1.000</td>\n",
       "      <td>0.620</td>\n",
       "      <td>0.290</td>\n",
       "      <td>3.468</td>\n",
       "      <td>5</td>\n",
       "      <td>0.000</td>\n",
       "      <td>385.725</td>\n",
       "      <td>29</td>\n",
       "      <td>4</td>\n",
       "      <td>-10.400</td>\n",
       "    </tr>\n",
       "    <tr>\n",
       "      <th>...</th>\n",
       "      <td>...</td>\n",
       "      <td>...</td>\n",
       "      <td>...</td>\n",
       "      <td>...</td>\n",
       "      <td>...</td>\n",
       "      <td>...</td>\n",
       "      <td>...</td>\n",
       "      <td>...</td>\n",
       "      <td>...</td>\n",
       "      <td>...</td>\n",
       "      <td>...</td>\n",
       "      <td>...</td>\n",
       "      <td>...</td>\n",
       "      <td>...</td>\n",
       "      <td>...</td>\n",
       "      <td>...</td>\n",
       "    </tr>\n",
       "    <tr>\n",
       "      <th>290</th>\n",
       "      <td>1</td>\n",
       "      <td>6BH4</td>\n",
       "      <td>&lt;rdkit.Chem.rdchem.Mol object at 0x2afd41a3fa60&gt;</td>\n",
       "      <td>0.966</td>\n",
       "      <td>1.000</td>\n",
       "      <td>0.935</td>\n",
       "      <td>1.000</td>\n",
       "      <td>0.793</td>\n",
       "      <td>0.370</td>\n",
       "      <td>-0.089</td>\n",
       "      <td>5</td>\n",
       "      <td>0.000</td>\n",
       "      <td>304.228</td>\n",
       "      <td>24</td>\n",
       "      <td>3</td>\n",
       "      <td>-10.400</td>\n",
       "    </tr>\n",
       "    <tr>\n",
       "      <th>291</th>\n",
       "      <td>2</td>\n",
       "      <td>6QR6</td>\n",
       "      <td>&lt;rdkit.Chem.rdchem.Mol object at 0x2afd41a3fac0&gt;</td>\n",
       "      <td>0.966</td>\n",
       "      <td>1.000</td>\n",
       "      <td>0.935</td>\n",
       "      <td>1.000</td>\n",
       "      <td>0.687</td>\n",
       "      <td>0.270</td>\n",
       "      <td>1.980</td>\n",
       "      <td>5</td>\n",
       "      <td>0.000</td>\n",
       "      <td>372.306</td>\n",
       "      <td>30</td>\n",
       "      <td>5</td>\n",
       "      <td>-10.200</td>\n",
       "    </tr>\n",
       "    <tr>\n",
       "      <th>292</th>\n",
       "      <td>1</td>\n",
       "      <td>5G6J</td>\n",
       "      <td>&lt;rdkit.Chem.rdchem.Mol object at 0x2afd41a3fb20&gt;</td>\n",
       "      <td>0.966</td>\n",
       "      <td>1.000</td>\n",
       "      <td>0.935</td>\n",
       "      <td>1.000</td>\n",
       "      <td>0.684</td>\n",
       "      <td>0.260</td>\n",
       "      <td>1.221</td>\n",
       "      <td>5</td>\n",
       "      <td>0.000</td>\n",
       "      <td>286.229</td>\n",
       "      <td>23</td>\n",
       "      <td>3</td>\n",
       "      <td>-9.600</td>\n",
       "    </tr>\n",
       "    <tr>\n",
       "      <th>293</th>\n",
       "      <td>3</td>\n",
       "      <td>4I12</td>\n",
       "      <td>&lt;rdkit.Chem.rdchem.Mol object at 0x2afd41a3fd00&gt;</td>\n",
       "      <td>0.966</td>\n",
       "      <td>1.000</td>\n",
       "      <td>0.935</td>\n",
       "      <td>1.000</td>\n",
       "      <td>0.585</td>\n",
       "      <td>0.270</td>\n",
       "      <td>2.688</td>\n",
       "      <td>5</td>\n",
       "      <td>0.000</td>\n",
       "      <td>491.858</td>\n",
       "      <td>36</td>\n",
       "      <td>5</td>\n",
       "      <td>-8.700</td>\n",
       "    </tr>\n",
       "    <tr>\n",
       "      <th>294</th>\n",
       "      <td>2</td>\n",
       "      <td>4B2D</td>\n",
       "      <td>&lt;rdkit.Chem.rdchem.Mol object at 0x2afd41a3fd60&gt;</td>\n",
       "      <td>0.966</td>\n",
       "      <td>1.000</td>\n",
       "      <td>0.935</td>\n",
       "      <td>1.000</td>\n",
       "      <td>0.436</td>\n",
       "      <td>0.520</td>\n",
       "      <td>-0.987</td>\n",
       "      <td>5</td>\n",
       "      <td>0.000</td>\n",
       "      <td>98.037</td>\n",
       "      <td>7</td>\n",
       "      <td>0</td>\n",
       "      <td>-3.600</td>\n",
       "    </tr>\n",
       "  </tbody>\n",
       "</table>\n",
       "<p>295 rows × 16 columns</p>\n",
       "</div>"
      ],
      "text/plain": [
       "    ec receptor                                              mols  validity  \\\n",
       "0    3     6TC1  <rdkit.Chem.rdchem.Mol object at 0x2afd41a4e260>     0.966   \n",
       "1    2     3VEV  <rdkit.Chem.rdchem.Mol object at 0x2afd41a4e320>     0.966   \n",
       "2    3     5J6N  <rdkit.Chem.rdchem.Mol object at 0x2afd41a4e3e0>     0.966   \n",
       "3    2     6F71  <rdkit.Chem.rdchem.Mol object at 0x2afd41a4e4a0>     0.966   \n",
       "4    3     6EY8  <rdkit.Chem.rdchem.Mol object at 0x2afd41a4e500>     0.966   \n",
       "..  ..      ...                                               ...       ...   \n",
       "290  1     6BH4  <rdkit.Chem.rdchem.Mol object at 0x2afd41a3fa60>     0.966   \n",
       "291  2     6QR6  <rdkit.Chem.rdchem.Mol object at 0x2afd41a3fac0>     0.966   \n",
       "292  1     5G6J  <rdkit.Chem.rdchem.Mol object at 0x2afd41a3fb20>     0.966   \n",
       "293  3     4I12  <rdkit.Chem.rdchem.Mol object at 0x2afd41a3fd00>     0.966   \n",
       "294  2     4B2D  <rdkit.Chem.rdchem.Mol object at 0x2afd41a3fd60>     0.966   \n",
       "\n",
       "     connectivity  uniqueness  novelty   qed    sa   logp  lipinski  \\\n",
       "0           1.000       0.935    1.000 0.536 0.490  0.256         5   \n",
       "1           1.000       0.935    1.000 0.782 0.320  0.837         5   \n",
       "2           1.000       0.935    1.000 0.670 0.370  1.065         5   \n",
       "3           1.000       0.935    1.000 0.786 0.350  2.156         5   \n",
       "4           1.000       0.935    1.000 0.620 0.290  3.468         5   \n",
       "..            ...         ...      ...   ...   ...    ...       ...   \n",
       "290         1.000       0.935    1.000 0.793 0.370 -0.089         5   \n",
       "291         1.000       0.935    1.000 0.687 0.270  1.980         5   \n",
       "292         1.000       0.935    1.000 0.684 0.260  1.221         5   \n",
       "293         1.000       0.935    1.000 0.585 0.270  2.688         5   \n",
       "294         1.000       0.935    1.000 0.436 0.520 -0.987         5   \n",
       "\n",
       "     diversity      MW  size  n_rings  vina_scores  \n",
       "0        0.000 122.132     8        1          NaN  \n",
       "1        0.000 371.233    28        3          NaN  \n",
       "2        0.000 403.286    29        3       -9.200  \n",
       "3        0.000 260.160    20        3       -9.300  \n",
       "4        0.000 385.725    29        4      -10.400  \n",
       "..         ...     ...   ...      ...          ...  \n",
       "290      0.000 304.228    24        3      -10.400  \n",
       "291      0.000 372.306    30        5      -10.200  \n",
       "292      0.000 286.229    23        3       -9.600  \n",
       "293      0.000 491.858    36        5       -8.700  \n",
       "294      0.000  98.037     7        0       -3.600  \n",
       "\n",
       "[295 rows x 16 columns]"
      ]
     },
     "execution_count": 11,
     "metadata": {},
     "output_type": "execute_result"
    }
   ],
   "source": [
    "df_test_ec = evaluate_molecules(test_mols_dict, vina_csv, organize_by_ec=True)\n",
    "df_test_ec"
   ]
  },
  {
   "cell_type": "code",
   "execution_count": 76,
   "id": "13ef1030-b7b3-4a57-81da-63e820bd1721",
   "metadata": {},
   "outputs": [
    {
     "data": {
      "image/png": "[encoded data removed]",
      "text/plain": [
       "<seaborn._core.plot.Plot at 0x2ba79e9df550>"
      ]
     },
     "execution_count": 76,
     "metadata": {
      "image/png": {
       "height": 378.25,
       "width": 572.05
      }
     },
     "output_type": "execute_result"
    }
   ],
   "source": [
    "import seaborn.objects as so\n",
    "\n",
    "p = so.Plot(df_test_ec, x='ec', y='MW', color='ec').add(so.Range(),so.Est(errorbar=\"sd\")).add(so.Dot(), so.Agg())\n",
    "p.label(title=\"Molecular weight\")"
   ]
  },
  {
   "cell_type": "code",
   "execution_count": 77,
   "id": "982db017-d7f5-4f3f-8883-50790b8bdecc",
   "metadata": {},
   "outputs": [
    {
     "data": {
      "image/png": "[encoded data removed]",
      "text/plain": [
       "<seaborn._core.plot.Plot at 0x2ba79ded0220>"
      ]
     },
     "execution_count": 77,
     "metadata": {
      "image/png": {
       "height": 378.25,
       "width": 572.05
      }
     },
     "output_type": "execute_result"
    }
   ],
   "source": [
    "p = so.Plot(df_test_ec, x='ec', y='logp', color='ec').add(so.Range(),so.Est(errorbar=\"sd\")).add(so.Dot(), so.Agg())\n",
    "p.label(title=\"LogP\")"
   ]
  },
  {
   "cell_type": "code",
   "execution_count": 16,
   "id": "d7977def-847d-4ce4-96bb-e23d58666cef",
   "metadata": {},
   "outputs": [
    {
     "data": {
      "text/plain": [
       "ec\n",
       "1    73\n",
       "2    90\n",
       "3    80\n",
       "4    27\n",
       "5    13\n",
       "6    11\n",
       "7     1\n",
       "Name: receptor, dtype: int64"
      ]
     },
     "execution_count": 16,
     "metadata": {},
     "output_type": "execute_result"
    }
   ],
   "source": [
    "df_test_ec.groupby('ec')['receptor'].count()"
   ]
  },
  {
   "cell_type": "code",
   "execution_count": 73,
   "id": "7d77890c",
   "metadata": {},
   "outputs": [],
   "source": [
    "from rdkit import DataStructs\n",
    "from rdkit.Chem.rdMolDescriptors import GetMorganFingerprintAsBitVect, GetMACCSKeysFingerprint\n",
    "\n",
    "def get_similarity_map(df, subset=-1, criterion='MACCS', \n",
    "                       similarity_map_name='similarity_map',\n",
    "                       similarity_std_name='similarity_std'):\n",
    "    assert 'ec', 'mols' in df.columns\n",
    "    \n",
    "    fp_dict = defaultdict(list)\n",
    "    n_classes = len(EC_ENCODER)\n",
    "    similarity_map = pd.DataFrame(np.zeros((n_classes, n_classes)),\n",
    "                                  index=sorted(EC_ENCODER.keys()), columns=sorted(EC_ENCODER.keys()))\n",
    "    similarity_std = pd.DataFrame(np.zeros((n_classes, n_classes)),\n",
    "                                  index=sorted(EC_ENCODER.keys()), columns=sorted(EC_ENCODER.keys()))\n",
    "    \n",
    "    for i, row in df.iterrows():\n",
    "        if criterion == 'MACCS':\n",
    "            fp_dict[row['ec']].append(GetMACCSKeysFingerprint(row['mols']))\n",
    "        elif criterion == 'Morgan':\n",
    "            fp_dict[row['ec']].append(GetMorganFingerprintAsBitVect(row['mols'], radius=2, nBits=1024))\n",
    "        else:\n",
    "            raise NotImplementedError\n",
    "            \n",
    "    if subset > 0:\n",
    "        tmp = {}\n",
    "        for k, v in fp_dict.items():\n",
    "            if len(v) >= subset: \n",
    "                random_idc = np.random.choice(len(v), replace=False, size=subset, seed=RANDOM_SEED)\n",
    "            else:\n",
    "                random_idc = np.concatenate([\n",
    "                    np.tile(np.arange(len(v)), subset//len(v)),\n",
    "                    np.random.choice(len(v), replace=False, size=subset%len(v), seed=RANDOM_SEED)\n",
    "                ])\n",
    "            tmp[k] = [v[i] for i in random_idc]\n",
    "        fp_dict = tmp\n",
    "\n",
    "    for k1, li1 in fp_dict.items():\n",
    "        for k2, li2 in fp_dict.items():\n",
    "            tanimoto_scores = [DataStructs.TanimotoSimilarity(m, n) \n",
    "                               for i, m in enumerate(li1) for j, n in enumerate(li2)\n",
    "                               if k1 != k2 or i != j]\n",
    "            similarity_map.loc[k1, k2] = np.mean(tanimoto_scores)\n",
    "            similarity_std.loc[k1, k2] = np.std(tanimoto_scores)\n",
    "            \n",
    "    similarity_map.name = similarity_map_name\n",
    "    similarity_std.name = similarity_std_name\n",
    "            \n",
    "    return similarity_map, similarity_std\n",
    "\n",
    "def visualize_heatmap(df_mean, df_std=None, save_dir=None, **kwargs):\n",
    "        \n",
    "    if save_dir is not None:\n",
    "        df_mean.to_csv(os.path.join(save_dir, f'{df_mean.name}.csv'))\n",
    "        if df_std is not None:\n",
    "            df_std.to_csv(os.path.join(save_dir, f'{df_std.name}.csv'))\n",
    "    \n",
    "    if df_std is not None:\n",
    "        plt.figure(figsize=(7, 6))\n",
    "        annotations = df_mean.map('{:.2f}'.format).astype(str) + '\\n±' + df_std.map('{:.2f}'.format).astype(str)\n",
    "        s = sns.heatmap(df_mean, annot=annotations, vmin=0, vmax=1, cmap='Spectral', fmt = '')\n",
    "        s.set(xlabel='EC', ylabel='EC', **kwargs)\n",
    "    else:\n",
    "        plt.figure(figsize=(6, 5))\n",
    "        s = sns.heatmap(df_mean, annot=True, vmin=0, vmax=1, cmap='Spectral')\n",
    "        s.set(xlabel='EC', ylabel='EC', **kwargs)\n",
    "        \n",
    "    if save_dir is not None:\n",
    "        plt.savefig(os.path.join(save_dir, df_mean.name))\n",
    "        plt.clf()\n",
    "    else:\n",
    "        plt.show()\n",
    "            "
   ]
  },
  {
   "cell_type": "code",
   "execution_count": 19,
   "id": "bcf4aa73",
   "metadata": {},
   "outputs": [
    {
     "data": {
      "image/png": "[encoded data removed]",
      "text/plain": [
       "<Figure size 600x500 with 2 Axes>"
      ]
     },
     "metadata": {},
     "output_type": "display_data"
    }
   ],
   "source": [
    "test_similarity, _ = get_similarity_map(df_test_ec)\n",
    "visualize_heatmap(test_similarity, title='Tanimoto Similarity of Docked Molecules')"
   ]
  },
  {
   "cell_type": "code",
   "execution_count": 27,
   "id": "8f36d843-9042-4d74-9b44-c53b2eb62335",
   "metadata": {},
   "outputs": [
    {
     "data": {
      "image/png": "[encoded data removed]",
      "text/plain": [
       "<Figure size 600x500 with 2 Axes>"
      ]
     },
     "metadata": {},
     "output_type": "display_data"
    }
   ],
   "source": [
    "test_similarity, _ = get_similarity_map(df_test_ec, subset=10)\n",
    "visualize_heatmap(test_similarity, title='Tanimoto Similarity of Docked Molecules')"
   ]
  },
  {
   "cell_type": "code",
   "execution_count": 75,
   "id": "31f6b362-a111-4fc0-a854-36b1114de3da",
   "metadata": {},
   "outputs": [
    {
     "data": {
      "image/png": "[encoded data removed]",
      "text/plain": [
       "<Figure size 600x500 with 2 Axes>"
      ]
     },
     "metadata": {},
     "output_type": "display_data"
    }
   ],
   "source": [
    "test_similarity, _ = get_similarity_map(df_test_ec, subset=25)\n",
    "visualize_heatmap(test_similarity, title='Tanimoto Similarity of Docked Molecules')"
   ]
  },
  {
   "cell_type": "markdown",
   "id": "abfd0851-db79-4f36-9c9b-65279a1af25e",
   "metadata": {},
   "source": [
    "### Train set"
   ]
  },
  {
   "cell_type": "code",
   "execution_count": 49,
   "id": "26411800-0338-4e98-b440-90549344cf1d",
   "metadata": {},
   "outputs": [
    {
     "data": {
      "text/plain": [
       "dict_keys(['names', 'receptors', 'lig_coords', 'lig_one_hot', 'lig_mask', 'pocket_coords', 'pocket_one_hot', 'pocket_mask', 'labels'])"
      ]
     },
     "execution_count": 49,
     "metadata": {},
     "output_type": "execute_result"
    }
   ],
   "source": [
    "train_npz = './processed_noH_ca/train.npz'\n",
    "\n",
    "with np.load(train_npz, allow_pickle=True) as f:\n",
    "    train_data = {key: val for key, val in f.items()}\n",
    "    \n",
    "train_data.keys()"
   ]
  },
  {
   "cell_type": "code",
   "execution_count": 50,
   "id": "0ca092ec-ca5c-489e-855f-63abb64a1965",
   "metadata": {},
   "outputs": [],
   "source": [
    "del train_data"
   ]
  },
  {
   "cell_type": "markdown",
   "id": "fd847e04",
   "metadata": {},
   "source": [
    "### Analyze samples"
   ]
  },
  {
   "cell_type": "code",
   "execution_count": 87,
   "id": "f4f3e723",
   "metadata": {},
   "outputs": [],
   "source": [
    "def get_sample_df(out_dir, group, desc, vina=True, organize_by_ec=False, save_summary=True):\n",
    "    \n",
    "    sample_dir = os.path.join(out_dir, group)\n",
    "    \n",
    "    sample_sdf = list(glob.glob(f'{sample_dir}/generated/[!.]*.sdf'))\n",
    "    qvina_csv = f'{sample_dir}/qvina/vina_scores.csv' if vina else None \n",
    "    validity_file = f'{sample_dir}/pocket_validities.txt'\n",
    "    time_file = f'{sample_dir}/pocket_times.txt'\n",
    "    \n",
    "    mols_dict = defaultdict(list)\n",
    "    for file in sample_sdf:\n",
    "        ligand_name = file.split('/')[-1]\n",
    "        mols_dict[ligand_name] += list(Chem.SDMolSupplier(str(file), sanitize=False))\n",
    "        \n",
    "    df_sample = evaluate_molecules(mols_dict, qvina_csv, \n",
    "                                   validity_file, time_file,\n",
    "                                   organize_by_ec=organize_by_ec)\n",
    "    df_sample['group'] = desc\n",
    "    df_sample['sample_dir'] = sample_dir\n",
    "    \n",
    "    if save_summary:\n",
    "        df_sample.describe().to_csv(f'{sample_dir}/summary.csv')\n",
    "    \n",
    "    return df_sample"
   ]
  },
  {
   "cell_type": "code",
   "execution_count": 88,
   "id": "e509c46e",
   "metadata": {},
   "outputs": [],
   "source": [
    "def plot_kde(df, keys, division='group', save_file=None, **kwargs):\n",
    "    assert division in df.columns\n",
    "    \n",
    "    fig, axes = plt.subplots(len(keys), 1, figsize = (6, 5*len(keys)))\n",
    "    groups = df[division].unique()\n",
    "    \n",
    "    for i in range(len(keys)):\n",
    "        for group in groups:\n",
    "            p = sns.kdeplot(df[df[division]==group], x=keys[i], ax=axes[i], label=group, **kwargs)\n",
    "        p.set_ylabel('density')\n",
    "        p.legend(fontsize=5)\n",
    "    \n",
    "    plt.tight_layout()\n",
    "    if save_file is not None:\n",
    "        fig.savefig(save_file)           \n",
    "        plt.clf()"
   ]
  },
  {
   "cell_type": "code",
   "execution_count": 89,
   "id": "8ac745e7",
   "metadata": {},
   "outputs": [],
   "source": [
    "from datetime import datetime\n",
    "\n",
    "def pipeline1(out_dir, groups, descriptions, vina=True):\n",
    "    \n",
    "    df_samples = [df_test]\n",
    "    for group, desc in zip(groups, descriptions):\n",
    "        df_samples.append(get_sample_df(out_dir, group, desc))\n",
    "    \n",
    "    df_samples = pd.concat(df_samples, ignore_index=True)\n",
    "    \n",
    "    keys = ['vina_scores', 'qed', 'sa', 'logp'] if vina else ['qed', 'sa', 'logp']\n",
    "    plot_kde(df_samples, keys, save_file=f'{out_dir}/{datetime.now()}_{len(groups)}_groups_kde.png', alpha=0.5)\n",
    "        \n",
    "    return df_samples"
   ]
  },
  {
   "cell_type": "code",
   "execution_count": null,
   "id": "2f072ffa-e5e0-454d-8610-aa5b5fd5a9bc",
   "metadata": {},
   "outputs": [
    {
     "name": "stdout",
     "output_type": "stream",
     "text": [
      "Validity over 10275 molecules: 98.06%\n",
      "Connectivity over 10076 valid molecules: 100.00%\n",
      "Uniqueness over 10076 connected molecules: 94.56%\n",
      "Novelty over 9528 unique connected molecules: 98.45%\n"
     ]
    },
    {
     "name": "stderr",
     "output_type": "stream",
     "text": [
      "100%|██████████| 411/411 [02:03<00:00,  3.34it/s]\n"
     ]
    },
    {
     "name": "stdout",
     "output_type": "stream",
     "text": [
      "Validity over 10275 molecules: 99.34%\n",
      "Connectivity over 10207 valid molecules: 100.00%\n",
      "Uniqueness over 10207 connected molecules: 92.98%\n",
      "Novelty over 9490 unique connected molecules: 98.84%\n"
     ]
    },
    {
     "name": "stderr",
     "output_type": "stream",
     "text": [
      "100%|██████████| 411/411 [02:04<00:00,  3.29it/s]\n"
     ]
    },
    {
     "name": "stdout",
     "output_type": "stream",
     "text": [
      "Validity over 10275 molecules: 99.48%\n",
      "Connectivity over 10222 valid molecules: 100.00%\n",
      "Uniqueness over 10222 connected molecules: 97.28%\n",
      "Novelty over 9944 unique connected molecules: 98.92%\n"
     ]
    },
    {
     "name": "stderr",
     "output_type": "stream",
     "text": [
      " 99%|█████████▉| 406/411 [05:36<00:04,  1.21it/s]"
     ]
    }
   ],
   "source": [
    "groups = [\n",
    "    'or_j_ca_h1_v1_ep500',\n",
    "    'add_j_ca_h1_v1_ep500',\n",
    "    'cat_j_ca_h1_v1_ep500',\n",
    "    'cf_add_j_ca_h1_v1_ep500',\n",
    "    'cf_cat_j_ca_h1_v1_ep500',\n",
    "    'clf_add_j_ca_h1_v1_ep500',\n",
    "    'clf_cat_j_ca_h1_v1_ep500',\n",
    "]\n",
    "descriptions = [\n",
    "    'original model',\n",
    "    'context(add) model',\n",
    "    'context(concat) model',\n",
    "    'classifier-free(add) model',\n",
    "    'classifier-free(concat) model',\n",
    "    'classifier-guidance(add) model',\n",
    "    'classifier-guidance(concat) model',\n",
    "]\n",
    "out_dir = './outputs'\n",
    "\n",
    "df_samples = pipeline1(out_dir, groups, descriptions)"
   ]
  },
  {
   "cell_type": "code",
   "execution_count": null,
   "id": "c25415d4-c350-42df-b4bb-13c24cde76a4",
   "metadata": {},
   "outputs": [],
   "source": []
  },
  {
   "cell_type": "code",
   "execution_count": 42,
   "id": "394dd62c-b303-40f9-8b45-0740d8c26b50",
   "metadata": {},
   "outputs": [],
   "source": [
    "import seaborn.objects as so\n",
    "\n",
    "def pipeline2(out_dir, groups, descriptions, vina=True):\n",
    "    \n",
    "    df_samples = []\n",
    "    for group, desc in zip(groups, descriptions):\n",
    "        df_sample = get_sample_df(out_dir, group, desc, organize_by_ec=True)\n",
    "        df_samples.append(df_sample)\n",
    "        sample_dir = os.path.join(out_dir, group)\n",
    "        \n",
    "        similarity_map, _ = get_similarity_map(df_sample)\n",
    "        visualize_heatmap(similarity_map, title='Tanimoto Similarity of Generated Molecules', save_dir=sample_dir)\n",
    "        \n",
    "        p = so.Plot(df_sample, x='ec', color='ec').pair(y=['MW', 'logp']).add(so.Range(),so.Est(errorbar=\"sd\")).add(so.Dot(), so.Agg())\n",
    "        p.save(os.path.join(sample_dir, 'MW_logp_errorplot.png'))\n",
    "        \n",
    "    df_samples = pd.concat(df_samples, ignore_index=True)\n",
    "        \n",
    "    return df_samples"
   ]
  },
  {
   "cell_type": "code",
   "execution_count": 47,
   "id": "60e1637a",
   "metadata": {},
   "outputs": [
    {
     "name": "stdout",
     "output_type": "stream",
     "text": [
      "Validity over 10275 molecules: 98.06%\n",
      "Connectivity over 10076 valid molecules: 100.00%\n",
      "Uniqueness over 10076 connected molecules: 94.56%\n",
      "Novelty over 9528 unique connected molecules: 98.45%\n"
     ]
    },
    {
     "name": "stderr",
     "output_type": "stream",
     "text": [
      "100%|██████████| 411/411 [01:32<00:00,  4.44it/s]\n"
     ]
    },
    {
     "name": "stdout",
     "output_type": "stream",
     "text": [
      "Validity over 10275 molecules: 99.34%\n",
      "Connectivity over 10207 valid molecules: 100.00%\n",
      "Uniqueness over 10207 connected molecules: 92.98%\n",
      "Novelty over 9490 unique connected molecules: 98.84%\n"
     ]
    },
    {
     "name": "stderr",
     "output_type": "stream",
     "text": [
      "100%|██████████| 411/411 [01:34<00:00,  4.33it/s]\n"
     ]
    },
    {
     "name": "stdout",
     "output_type": "stream",
     "text": [
      "Validity over 10275 molecules: 99.48%\n",
      "Connectivity over 10222 valid molecules: 100.00%\n",
      "Uniqueness over 10222 connected molecules: 97.28%\n",
      "Novelty over 9944 unique connected molecules: 98.92%\n"
     ]
    },
    {
     "name": "stderr",
     "output_type": "stream",
     "text": [
      "100%|██████████| 411/411 [04:28<00:00,  1.53it/s]\n"
     ]
    },
    {
     "name": "stdout",
     "output_type": "stream",
     "text": [
      "Validity over 10275 molecules: 98.90%\n",
      "Connectivity over 10162 valid molecules: 100.00%\n",
      "Uniqueness over 10162 connected molecules: 92.14%\n",
      "Novelty over 9363 unique connected molecules: 98.39%\n"
     ]
    },
    {
     "name": "stderr",
     "output_type": "stream",
     "text": [
      "100%|██████████| 411/411 [01:35<00:00,  4.31it/s]\n"
     ]
    },
    {
     "name": "stdout",
     "output_type": "stream",
     "text": [
      "Validity over 10275 molecules: 96.73%\n",
      "Connectivity over 9939 valid molecules: 100.00%\n",
      "Uniqueness over 9939 connected molecules: 97.06%\n",
      "Novelty over 9647 unique connected molecules: 98.55%\n"
     ]
    },
    {
     "name": "stderr",
     "output_type": "stream",
     "text": [
      "100%|██████████| 411/411 [03:00<00:00,  2.28it/s]\n"
     ]
    },
    {
     "name": "stdout",
     "output_type": "stream",
     "text": [
      "Validity over 10275 molecules: 99.64%\n",
      "Connectivity over 10238 valid molecules: 100.00%\n",
      "Uniqueness over 10238 connected molecules: 96.94%\n",
      "Novelty over 9925 unique connected molecules: 98.87%\n"
     ]
    },
    {
     "name": "stderr",
     "output_type": "stream",
     "text": [
      "100%|██████████| 411/411 [02:18<00:00,  2.96it/s]\n"
     ]
    },
    {
     "name": "stdout",
     "output_type": "stream",
     "text": [
      "Validity over 10275 molecules: 98.07%\n",
      "Connectivity over 10077 valid molecules: 100.00%\n",
      "Uniqueness over 10077 connected molecules: 97.37%\n",
      "Novelty over 9812 unique connected molecules: 98.68%\n"
     ]
    },
    {
     "name": "stderr",
     "output_type": "stream",
     "text": [
      "100%|██████████| 411/411 [02:44<00:00,  2.50it/s]\n"
     ]
    },
    {
     "data": {
      "text/plain": [
       "<Figure size 600x500 with 0 Axes>"
      ]
     },
     "metadata": {},
     "output_type": "display_data"
    },
    {
     "data": {
      "text/plain": [
       "<Figure size 600x500 with 0 Axes>"
      ]
     },
     "metadata": {},
     "output_type": "display_data"
    },
    {
     "data": {
      "text/plain": [
       "<Figure size 600x500 with 0 Axes>"
      ]
     },
     "metadata": {},
     "output_type": "display_data"
    },
    {
     "data": {
      "text/plain": [
       "<Figure size 600x500 with 0 Axes>"
      ]
     },
     "metadata": {},
     "output_type": "display_data"
    },
    {
     "data": {
      "text/plain": [
       "<Figure size 600x500 with 0 Axes>"
      ]
     },
     "metadata": {},
     "output_type": "display_data"
    },
    {
     "data": {
      "text/plain": [
       "<Figure size 600x500 with 0 Axes>"
      ]
     },
     "metadata": {},
     "output_type": "display_data"
    },
    {
     "data": {
      "text/plain": [
       "<Figure size 600x500 with 0 Axes>"
      ]
     },
     "metadata": {},
     "output_type": "display_data"
    }
   ],
   "source": [
    "groups = [\n",
    "    'or_j_ca_h1_v1_ep500',\n",
    "    'add_j_ca_h1_v1_ep500',\n",
    "    'cat_j_ca_h1_v1_ep500',\n",
    "    'cf_add_j_ca_h1_v1_ep500',\n",
    "    'cf_cat_j_ca_h1_v1_ep500',\n",
    "    'clf_add_j_ca_h1_v1_ep500',\n",
    "    'clf_cat_j_ca_h1_v1_ep500',\n",
    "]\n",
    "descriptions = [\n",
    "    'original model',\n",
    "    'context(add) model',\n",
    "    'context(concat) model',\n",
    "    'classifier-free(add) model',\n",
    "    'classifier-free(concat) model',\n",
    "    'classifier-guidance(add) model',\n",
    "    'classifier-guidance(concat) model',\n",
    "]\n",
    "out_dir = './outputs'\n",
    "\n",
    "df_samples = pipeline2(out_dir, groups, descriptions)"
   ]
  },
  {
   "cell_type": "code",
   "execution_count": 74,
   "id": "efbea7bb-16c8-40d1-b2f4-e918468d7cd9",
   "metadata": {},
   "outputs": [
    {
     "data": {
      "text/plain": [
       "<Figure size 600x500 with 0 Axes>"
      ]
     },
     "metadata": {},
     "output_type": "display_data"
    },
    {
     "data": {
      "text/plain": [
       "<Figure size 600x500 with 0 Axes>"
      ]
     },
     "metadata": {},
     "output_type": "display_data"
    },
    {
     "data": {
      "text/plain": [
       "<Figure size 600x500 with 0 Axes>"
      ]
     },
     "metadata": {},
     "output_type": "display_data"
    },
    {
     "data": {
      "text/plain": [
       "<Figure size 600x500 with 0 Axes>"
      ]
     },
     "metadata": {},
     "output_type": "display_data"
    },
    {
     "data": {
      "text/plain": [
       "<Figure size 600x500 with 0 Axes>"
      ]
     },
     "metadata": {},
     "output_type": "display_data"
    },
    {
     "data": {
      "text/plain": [
       "<Figure size 600x500 with 0 Axes>"
      ]
     },
     "metadata": {},
     "output_type": "display_data"
    },
    {
     "data": {
      "text/plain": [
       "<Figure size 600x500 with 0 Axes>"
      ]
     },
     "metadata": {},
     "output_type": "display_data"
    }
   ],
   "source": [
    "for group in descriptions:\n",
    "    df_sample = df_samples[df_samples['group']==group]\n",
    "    \n",
    "    similarity_map, _ = get_similarity_map(df_sample)\n",
    "    visualize_heatmap(similarity_map, title='Tanimoto Similarity of Generated Molecules',\n",
    "                      save_dir=df_sample['sample_dir'].iloc[0])"
   ]
  },
  {
   "cell_type": "code",
   "execution_count": null,
   "id": "674749e2-465e-4c7a-89b1-d1a6aca4ae5d",
   "metadata": {},
   "outputs": [],
   "source": []
  },
  {
   "cell_type": "code",
   "execution_count": 85,
   "id": "ba3e748c-a092-41e8-ad10-38224f95c438",
   "metadata": {},
   "outputs": [
    {
     "data": {
      "text/plain": [
       "<Figure size 600x500 with 0 Axes>"
      ]
     },
     "metadata": {},
     "output_type": "display_data"
    },
    {
     "data": {
      "text/plain": [
       "<Figure size 600x500 with 0 Axes>"
      ]
     },
     "metadata": {},
     "output_type": "display_data"
    },
    {
     "data": {
      "text/plain": [
       "<Figure size 600x500 with 0 Axes>"
      ]
     },
     "metadata": {},
     "output_type": "display_data"
    },
    {
     "data": {
      "text/plain": [
       "<Figure size 600x500 with 0 Axes>"
      ]
     },
     "metadata": {},
     "output_type": "display_data"
    },
    {
     "data": {
      "text/plain": [
       "<Figure size 600x500 with 0 Axes>"
      ]
     },
     "metadata": {},
     "output_type": "display_data"
    },
    {
     "data": {
      "text/plain": [
       "<Figure size 600x500 with 0 Axes>"
      ]
     },
     "metadata": {},
     "output_type": "display_data"
    },
    {
     "data": {
      "text/plain": [
       "<Figure size 600x500 with 0 Axes>"
      ]
     },
     "metadata": {},
     "output_type": "display_data"
    }
   ],
   "source": [
    "n_subset = 25\n",
    "\n",
    "for group in descriptions:\n",
    "    df_sample = df_samples[df_samples['group']==group]\n",
    "    df_sub = []\n",
    "    for ec in EC_ENCODER.keys():\n",
    "        df_tmp = df_sample[df_sample['ec']==ec]\n",
    "        df_size = df_tmp.shape[0]\n",
    "        if df_size > n_subset:\n",
    "            df_sub.append(df_tmp.sample(n=n_subset, random_state=RANDOM_SEED))\n",
    "        else:\n",
    "            df_sub.append(\n",
    "                    pd.concat([df_tmp]*(n_subset//df_size)) if n_subset%df_size==0  \n",
    "                    else pd.concat([df_tmp]*(n_subset//df_size)+\n",
    "                                   [df_tmp.sample(n=n_subset%df_size, random_state=RANDOM_SEED)])\n",
    "            )\n",
    "    df_sub = pd.concat(df_sub)\n",
    "    \n",
    "    similarity_map, _ = get_similarity_map(df_sub, similarity_map_name='similarity_map_25_per_ec')\n",
    "    visualize_heatmap(similarity_map, title='Tanimoto Similarity of Generated Molecules',\n",
    "                      save_dir=df_sample['sample_dir'].iloc[0])\n",
    "\n",
    "    p = so.Plot(df_sample, x='ec', color='ec').pair(y=['MW', 'logp']).add(so.Range(),so.Est(errorbar=\"sd\")).add(so.Dot(), so.Agg())\n",
    "    p.save(os.path.join(df_sample['sample_dir'].iloc[0], 'MW_logp_errorplot_25_per_ec.png'))"
   ]
  },
  {
   "cell_type": "code",
   "execution_count": null,
   "id": "b9f26973-007f-4df4-81b5-19a113bb2ed7",
   "metadata": {},
   "outputs": [],
   "source": []
  }
 ],
 "metadata": {
  "kernelspec": {
   "display_name": "diffsbdd",
   "language": "python",
   "name": "diffsbdd"
  },
  "language_info": {
   "codemirror_mode": {
    "name": "ipython",
    "version": 3
   },
   "file_extension": ".py",
   "mimetype": "text/x-python",
   "name": "python",
   "nbconvert_exporter": "python",
   "pygments_lexer": "ipython3",
   "version": "3.10.13"
  }
 },
 "nbformat": 4,
 "nbformat_minor": 5
}
